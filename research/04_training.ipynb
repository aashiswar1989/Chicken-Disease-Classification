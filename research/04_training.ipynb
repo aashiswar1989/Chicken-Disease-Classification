{
 "cells": [
  {
   "cell_type": "code",
   "execution_count": 1,
   "metadata": {},
   "outputs": [
    {
     "data": {
      "text/plain": [
       "'c:\\\\AI_ML\\\\Projects\\\\MLOps\\\\Chicken-Disease-Classification'"
      ]
     },
     "execution_count": 1,
     "metadata": {},
     "output_type": "execute_result"
    }
   ],
   "source": [
    "import os\n",
    "os.chdir('../')\n",
    "%pwd"
   ]
  },
  {
   "cell_type": "code",
   "execution_count": 2,
   "metadata": {},
   "outputs": [],
   "source": [
    "from dataclasses import dataclass\n",
    "from pathlib import Path\n",
    "\n",
    "@dataclass\n",
    "class TrainingConfig:\n",
    "    root_dir: Path\n",
    "    trained_model_path: Path\n",
    "    updated_base_model_path: Path\n",
    "    training_data: Path\n",
    "    params_epochs: int\n",
    "    params_batch_size: int\n",
    "    params_is_augmentation: bool\n",
    "    params_image_size: list\n",
    "\n",
    "\n",
    "@dataclass\n",
    "class PrepareCallbacksConfig:\n",
    "    root_dir: Path\n",
    "    tensorboard_root_log_dir: Path\n",
    "    checkpoint_model_filepath: Path"
   ]
  },
  {
   "cell_type": "code",
   "execution_count": 11,
   "metadata": {},
   "outputs": [],
   "source": [
    "from CNNClassifier.constants import *\n",
    "from CNNClassifier.utils.utils import read_yaml, create_directories\n",
    "import tensorflow as tf\n",
    "\n",
    "class ConfigurationManager:\n",
    "    def __init__(self,\n",
    "                 config_file_path = CONFIG_FILE_PATH,\n",
    "                 params_file_path = PARAMS_FILE_PATH):\n",
    "        \n",
    "        self.config = read_yaml(config_file_path)\n",
    "        self.params = read_yaml(params_file_path)\n",
    "        create_directories([self.config.artifacts_root])\n",
    "\n",
    "    def get_prepare_callbacks_config(self) -> PrepareCallbacksConfig:\n",
    "        config = self.config.prepare_callbacks\n",
    "        model_ckpt_dir = os.path.dirname(config.checkpoint_model_filepath)\n",
    "        create_directories([Path(model_ckpt_dir), Path(config.tensorboard_root_log_dir)])\n",
    "\n",
    "        prepare_callbacks_config = PrepareCallbacksConfig(\n",
    "            root_dir = Path(config.root_dir),\n",
    "            tensorboard_root_log_dir = Path(config.tensorboard_root_log_dir),\n",
    "            checkpoint_model_filepath = Path(config.checkpoint_model_filepath)\n",
    "        )\n",
    "\n",
    "        return prepare_callbacks_config\n",
    "\n",
    "    def get_training_config(self) -> TrainingConfig:\n",
    "        training = self.config.training\n",
    "        prepare_base_model = self.config.prepare_base_model\n",
    "        params = self.params\n",
    "        training_data = os.path.join(self.config.data_ingestion.unzip_dir, 'Chicken-fecal-images')\n",
    "        create_directories([training.root_dir])\n",
    "\n",
    "        training_config = TrainingConfig(\n",
    "            root_dir = Path(training.root_dir),\n",
    "            trained_model_path = Path(training.trained_model_path),\n",
    "            updated_base_model_path = Path(prepare_base_model.updated_base_model_path),\n",
    "            training_data=Path(training_data),\n",
    "            params_epochs= params.EPOCHS,\n",
    "            params_batch_size = params.BATCH_SIZE,\n",
    "            params_is_augmentation= params.AUGMENTATION,\n",
    "            params_image_size= params.IMAGE_SIZE\n",
    "        )\n",
    "\n",
    "        return training_config"
   ]
  },
  {
   "cell_type": "code",
   "execution_count": 12,
   "metadata": {},
   "outputs": [],
   "source": [
    "import time\n",
    "\n",
    "class PrepareCallbacks:\n",
    "    def __init__(self, config = PrepareCallbacksConfig):\n",
    "        self.config = config\n",
    "\n",
    "    \n",
    "    @property\n",
    "    def _create_tb_callbacks(self):\n",
    "        timestamp = time.strftime(\"%y-%m-%d-%H-%M-%S\")\n",
    "        tb_running_long_dir = os.path.join(\n",
    "            self.config.tensorboard_root_log_dir,\n",
    "            f\"tb_logs_at_{timestamp}\"\n",
    "        )\n",
    "        return tf.keras.callbacks.TensorBoard(log_dir=tb_running_long_dir)\n",
    "    \n",
    "\n",
    "    @property\n",
    "    def _create_ckpt_callbacks(self):\n",
    "        return tf.keras.callbacks.ModelCheckpoint(\n",
    "            filepath= self.config.checkpoint_model_filepath,\n",
    "            save_best_only = True\n",
    "        )\n",
    "    \n",
    "    def get_tb_ckpt_callbacks(self):\n",
    "        return [\n",
    "            self._create_tb_callbacks,\n",
    "            self._create_ckpt_callbacks\n",
    "        ]"
   ]
  },
  {
   "cell_type": "code",
   "execution_count": 13,
   "metadata": {},
   "outputs": [],
   "source": [
    "import os\n",
    "import urllib.request as request\n",
    "from zipfile import ZipFile\n",
    "import tensorflow as tf\n",
    "import time"
   ]
  },
  {
   "cell_type": "code",
   "execution_count": null,
   "metadata": {},
   "outputs": [],
   "source": [
    "class Training:\n",
    "    def __init__(self, config: TrainingConfig):\n",
    "        self.config = config\n",
    "\n",
    "    \n",
    "    def get_base_model(self):\n",
    "        self.model = tf.keras.models.load_model(\n",
    "            self.config.updated_base_model_path\n",
    "        )\n",
    "\n",
    "    def train_valid_generator(self):\n",
    "\n",
    "        datagenerator_kwargs = dict(\n",
    "            rescale = 1./255,\n",
    "            validation_split=0.20\n",
    "        )\n",
    "\n",
    "        dataflow_kwargs = dict(\n",
    "            target_size=self.config.params_image_size[:-1],\n",
    "            batch_size=self.config.params_batch_size,\n",
    "            interpolation=\"bilinear\"\n",
    "        )\n",
    "\n",
    "        valid_datagenerator = tf.keras.preprocessing.image.ImageDataGenerator(\n",
    "            **datagenerator_kwargs\n",
    "        )\n",
    "\n",
    "        self.valid_generator = valid_datagenerator.flow_from_directory(\n",
    "            directory=self.config.training_data,\n",
    "            subset=\"validation\",\n",
    "            shuffle=False,\n",
    "            **dataflow_kwargs\n",
    "        )\n",
    "\n",
    "        if self.config.params_is_augmentation:\n",
    "            train_datagenerator = tf.keras.preprocessing.image.ImageDataGenerator(\n",
    "                rotation_range=40,\n",
    "                horizontal_flip=True,\n",
    "                width_shift_range=0.2,\n",
    "                height_shift_range=0.2,\n",
    "                shear_range=0.2,\n",
    "                zoom_range=0.2,\n",
    "                **datagenerator_kwargs\n",
    "            )\n",
    "        else:\n",
    "            train_datagenerator = valid_datagenerator\n",
    "\n",
    "        self.train_generator = train_datagenerator.flow_from_directory(\n",
    "            directory=self.config.training_data,\n",
    "            subset=\"training\",\n",
    "            shuffle=True,\n",
    "            **dataflow_kwargs\n",
    "        )\n",
    "\n",
    "    \n",
    "    @staticmethod\n",
    "    def save_model(path: Path, model: tf.keras.Model):\n",
    "        model.save(path)\n",
    "\n",
    "\n",
    "\n",
    "    \n",
    "    def train(self, callbacks_list: list):\n",
    "        self.steps_per_epoch = self.train_generator.samples // self.train_generator.batch_size\n",
    "        self.validation_steps = self.valid_generator.samples // self.valid_generator.batch_size\n",
    "\n",
    "        self.model.fit(\n",
    "            self.train_generator,\n",
    "            epochs=self.config.params_epochs,\n",
    "            steps_per_epoch=self.steps_per_epoch,\n",
    "            validation_steps=self.validation_steps,\n",
    "            validation_data=self.valid_generator,\n",
    "            callbacks = callbacks_list\n",
    "        )\n",
    "\n",
    "        self.save_model(\n",
    "            path=self.config.trained_model_path,\n",
    "            model=self.model\n",
    "        )"
   ]
  },
  {
   "cell_type": "code",
   "execution_count": null,
   "metadata": {},
   "outputs": [
    {
     "name": "stdout",
     "output_type": "stream",
     "text": [
      "[2025-02-15 09:45:35,071: INFO: utils: yaml file: config\\config.yaml loaded successfully]\n",
      "[2025-02-15 09:45:35,074: INFO: utils: yaml file: params.yaml loaded successfully]\n",
      "[2025-02-15 09:45:35,076: INFO: utils: created directory at: artifacts]\n",
      "[2025-02-15 09:45:35,078: INFO: utils: created directory at: artifacts\\prepare_callbacks\\checkpoint_dir]\n",
      "[2025-02-15 09:45:35,080: INFO: utils: created directory at: artifacts\\prepare_callbacks\\tensorboard_log_dir]\n",
      "[2025-02-15 09:45:35,082: INFO: utils: created directory at: artifacts/training]\n",
      "[2025-02-15 09:45:35,337: WARNING: saving_utils: Compiled the loaded model, but the compiled metrics have yet to be built. `model.compile_metrics` will be empty until you train or evaluate the model.]\n",
      "Found 78 images belonging to 2 classes.\n",
      "Found 312 images belonging to 2 classes.\n"
     ]
    },
    {
     "name": "stderr",
     "output_type": "stream",
     "text": [
      "c:\\AI_ML\\Projects\\MLOps\\Chicken-Disease-Classification\\venv\\Lib\\site-packages\\keras\\src\\trainers\\data_adapters\\py_dataset_adapter.py:121: UserWarning: Your `PyDataset` class should call `super().__init__(**kwargs)` in its constructor. `**kwargs` can include `workers`, `use_multiprocessing`, `max_queue_size`. Do not pass these arguments to `fit()`, as they will be ignored.\n",
      "  self._warn_if_super_not_called()\n",
      "c:\\AI_ML\\Projects\\MLOps\\Chicken-Disease-Classification\\venv\\Lib\\site-packages\\tensorflow\\python\\data\\ops\\structured_function.py:258: UserWarning: Even though the `tf.config.experimental_run_functions_eagerly` option is set, this option does not apply to tf.data functions. To force eager execution of tf.data functions, please use `tf.data.experimental.enable_debug_mode()`.\n",
      "  warnings.warn(\n"
     ]
    },
    {
     "ename": "ValueError",
     "evalue": "Unknown variable: <Variable path=block1_conv1/kernel, shape=(3, 3, 3, 64), dtype=float32, value=[[[[ 4.29470569e-01  1.17273867e-01  3.40129584e-02 ... -1.32241577e-01\n    -5.33475243e-02  7.57738389e-03]\n   [ 5.50379455e-01  2.08774377e-02  9.88311544e-02 ... -8.48205537e-02\n    -5.11389151e-02  3.74943428e-02]\n   [ 4.80015397e-01 -1.72696680e-01  3.75577137e-02 ... -1.27135560e-01\n    -5.02991639e-02  3.48965675e-02]]\n\n  [[ 3.73466998e-01  1.62062630e-01  1.70863140e-03 ... -1.48207128e-01\n    -2.35300660e-01 -6.30356818e-02]\n   [ 4.40074533e-01  4.73412387e-02  5.13819456e-02 ... -9.88498852e-02\n    -2.96195745e-01 -7.04357103e-02]\n   [ 4.08547401e-01 -1.70375049e-01 -4.96297423e-03 ... -1.22360572e-01\n    -2.76450396e-01 -3.90796512e-02]]\n\n  [[-6.13601133e-02  1.35693997e-01 -1.15694344e-01 ... -1.40158370e-01\n    -3.77666801e-01 -3.00509870e-01]\n   [-8.13870355e-02  4.18543853e-02 -1.01763301e-01 ... -9.43124294e-02\n    -5.05662560e-01 -3.83694321e-01]\n   [-6.51455522e-02 -1.54351532e-01 -1.38038069e-01 ... -1.29404560e-01\n    -4.62243795e-01 -3.23985279e-01]]]\n\n\n [[[ 2.74769872e-01  1.48350164e-01  1.61559835e-01 ... -1.14316158e-01\n     3.65494519e-01  3.39938998e-01]\n   [ 3.45739067e-01  3.10493708e-02  2.40750551e-01 ... -6.93419054e-02\n     4.37116861e-01  4.13171440e-01]\n   [ 3.10477257e-01 -1.87601492e-01  1.66595340e-01 ... -9.88388434e-02\n     4.04058546e-01  3.92561197e-01]]\n\n  [[ 3.86807770e-02  2.02298447e-01  1.56414255e-01 ... -5.20089604e-02\n     2.57149011e-01  3.71682674e-01]\n   [ 4.06322069e-02  6.58102185e-02  2.20311403e-01 ... -3.78979952e-03\n     2.69412428e-01  4.09505904e-01]\n   [ 5.02023660e-02 -1.77571565e-01  1.51188180e-01 ... -1.40649760e-02\n     2.59300828e-01  4.23764467e-01]]\n\n  [[-3.67223352e-01  1.61688417e-01 -8.99365395e-02 ... -1.45945460e-01\n    -2.71823555e-01 -2.39718184e-01]\n   [-4.53501314e-01  4.62574959e-02 -6.67438358e-02 ... -1.03502415e-01\n    -3.45792353e-01 -2.92486250e-01]\n   [-4.03383434e-01 -1.74399972e-01 -1.09849639e-01 ... -1.25688612e-01\n    -3.14026326e-01 -2.32839763e-01]]]\n\n\n [[[-5.74681684e-02  1.29344285e-01  1.29030216e-02 ... -1.41449392e-01\n     2.41099641e-01  4.55602147e-02]\n   [-5.86349145e-02  3.16787697e-02  7.59588331e-02 ... -1.05017252e-01\n     3.39550197e-01  9.86374393e-02]\n   [-5.08716851e-02 -1.66002661e-01  1.56279504e-02 ... -1.49742723e-01\n     3.06801915e-01  8.82701725e-02]]\n\n  [[-2.62249678e-01  1.71572417e-01  5.44555223e-05 ... -1.22728683e-01\n     2.44687453e-01  5.32913655e-02]\n   [-3.30669671e-01  5.47101051e-02  4.86797579e-02 ... -8.29023942e-02\n     2.95466095e-01  7.44469985e-02]\n   [-2.85227507e-01 -1.66666731e-01 -7.96697661e-03 ... -1.09780088e-01\n     2.79203743e-01  9.46525261e-02]]\n\n  [[-3.50096762e-01  1.38710454e-01 -1.25339806e-01 ... -1.53092295e-01\n    -1.39917329e-01 -2.65075237e-01]\n   [-4.85030204e-01  4.23195846e-02 -1.12076312e-01 ... -1.18306056e-01\n    -1.67058021e-01 -3.22241962e-01]\n   [-4.18516338e-01 -1.57048807e-01 -1.49133086e-01 ... -1.56839803e-01\n    -1.42874300e-01 -2.69694626e-01]]]]>. This optimizer can only be called for the variables it was originally built with. When working with a new set of variables, you should recreate a new optimizer instance.",
     "output_type": "error",
     "traceback": [
      "\u001b[1;31m---------------------------------------------------------------------------\u001b[0m",
      "\u001b[1;31mValueError\u001b[0m                                Traceback (most recent call last)",
      "Cell \u001b[1;32mIn[17], line 14\u001b[0m\n\u001b[0;32m     11\u001b[0m     training\u001b[38;5;241m.\u001b[39mtrain()\n\u001b[0;32m     13\u001b[0m \u001b[38;5;28;01mexcept\u001b[39;00m \u001b[38;5;167;01mException\u001b[39;00m \u001b[38;5;28;01mas\u001b[39;00m e:\n\u001b[1;32m---> 14\u001b[0m     \u001b[38;5;28;01mraise\u001b[39;00m e\n",
      "Cell \u001b[1;32mIn[17], line 11\u001b[0m\n\u001b[0;32m      9\u001b[0m     training\u001b[38;5;241m.\u001b[39mget_base_model()\n\u001b[0;32m     10\u001b[0m     training\u001b[38;5;241m.\u001b[39mtrain_valid_generator()\n\u001b[1;32m---> 11\u001b[0m     \u001b[43mtraining\u001b[49m\u001b[38;5;241;43m.\u001b[39;49m\u001b[43mtrain\u001b[49m\u001b[43m(\u001b[49m\u001b[43m)\u001b[49m\n\u001b[0;32m     13\u001b[0m \u001b[38;5;28;01mexcept\u001b[39;00m \u001b[38;5;167;01mException\u001b[39;00m \u001b[38;5;28;01mas\u001b[39;00m e:\n\u001b[0;32m     14\u001b[0m     \u001b[38;5;28;01mraise\u001b[39;00m e\n",
      "Cell \u001b[1;32mIn[16], line 67\u001b[0m, in \u001b[0;36mTraining.train\u001b[1;34m(self)\u001b[0m\n\u001b[0;32m     64\u001b[0m \u001b[38;5;28mself\u001b[39m\u001b[38;5;241m.\u001b[39msteps_per_epoch \u001b[38;5;241m=\u001b[39m \u001b[38;5;28mself\u001b[39m\u001b[38;5;241m.\u001b[39mtrain_generator\u001b[38;5;241m.\u001b[39msamples \u001b[38;5;241m/\u001b[39m\u001b[38;5;241m/\u001b[39m \u001b[38;5;28mself\u001b[39m\u001b[38;5;241m.\u001b[39mtrain_generator\u001b[38;5;241m.\u001b[39mbatch_size\n\u001b[0;32m     65\u001b[0m \u001b[38;5;28mself\u001b[39m\u001b[38;5;241m.\u001b[39mvalidation_steps \u001b[38;5;241m=\u001b[39m \u001b[38;5;28mself\u001b[39m\u001b[38;5;241m.\u001b[39mvalid_generator\u001b[38;5;241m.\u001b[39msamples \u001b[38;5;241m/\u001b[39m\u001b[38;5;241m/\u001b[39m \u001b[38;5;28mself\u001b[39m\u001b[38;5;241m.\u001b[39mvalid_generator\u001b[38;5;241m.\u001b[39mbatch_size\n\u001b[1;32m---> 67\u001b[0m \u001b[38;5;28;43mself\u001b[39;49m\u001b[38;5;241;43m.\u001b[39;49m\u001b[43mmodel\u001b[49m\u001b[38;5;241;43m.\u001b[39;49m\u001b[43mfit\u001b[49m\u001b[43m(\u001b[49m\n\u001b[0;32m     68\u001b[0m \u001b[43m    \u001b[49m\u001b[38;5;28;43mself\u001b[39;49m\u001b[38;5;241;43m.\u001b[39;49m\u001b[43mtrain_generator\u001b[49m\u001b[43m,\u001b[49m\n\u001b[0;32m     69\u001b[0m \u001b[43m    \u001b[49m\u001b[43mepochs\u001b[49m\u001b[38;5;241;43m=\u001b[39;49m\u001b[38;5;28;43mself\u001b[39;49m\u001b[38;5;241;43m.\u001b[39;49m\u001b[43mconfig\u001b[49m\u001b[38;5;241;43m.\u001b[39;49m\u001b[43mparams_epochs\u001b[49m\u001b[43m,\u001b[49m\n\u001b[0;32m     70\u001b[0m \u001b[43m    \u001b[49m\u001b[43msteps_per_epoch\u001b[49m\u001b[38;5;241;43m=\u001b[39;49m\u001b[38;5;28;43mself\u001b[39;49m\u001b[38;5;241;43m.\u001b[39;49m\u001b[43msteps_per_epoch\u001b[49m\u001b[43m,\u001b[49m\n\u001b[0;32m     71\u001b[0m \u001b[43m    \u001b[49m\u001b[43mvalidation_steps\u001b[49m\u001b[38;5;241;43m=\u001b[39;49m\u001b[38;5;28;43mself\u001b[39;49m\u001b[38;5;241;43m.\u001b[39;49m\u001b[43mvalidation_steps\u001b[49m\u001b[43m,\u001b[49m\n\u001b[0;32m     72\u001b[0m \u001b[43m    \u001b[49m\u001b[43mvalidation_data\u001b[49m\u001b[38;5;241;43m=\u001b[39;49m\u001b[38;5;28;43mself\u001b[39;49m\u001b[38;5;241;43m.\u001b[39;49m\u001b[43mvalid_generator\u001b[49m\u001b[43m,\u001b[49m\n\u001b[0;32m     73\u001b[0m \u001b[43m    \u001b[49m\u001b[38;5;66;43;03m# callbacks = callbacks_list\u001b[39;49;00m\n\u001b[0;32m     74\u001b[0m \u001b[43m\u001b[49m\u001b[43m)\u001b[49m\n\u001b[0;32m     76\u001b[0m \u001b[38;5;28mself\u001b[39m\u001b[38;5;241m.\u001b[39msave_model(\n\u001b[0;32m     77\u001b[0m     path\u001b[38;5;241m=\u001b[39m\u001b[38;5;28mself\u001b[39m\u001b[38;5;241m.\u001b[39mconfig\u001b[38;5;241m.\u001b[39mtrained_model_path,\n\u001b[0;32m     78\u001b[0m     model\u001b[38;5;241m=\u001b[39m\u001b[38;5;28mself\u001b[39m\u001b[38;5;241m.\u001b[39mmodel\n\u001b[0;32m     79\u001b[0m )\n",
      "File \u001b[1;32mc:\\AI_ML\\Projects\\MLOps\\Chicken-Disease-Classification\\venv\\Lib\\site-packages\\keras\\src\\utils\\traceback_utils.py:122\u001b[0m, in \u001b[0;36mfilter_traceback.<locals>.error_handler\u001b[1;34m(*args, **kwargs)\u001b[0m\n\u001b[0;32m    119\u001b[0m     filtered_tb \u001b[38;5;241m=\u001b[39m _process_traceback_frames(e\u001b[38;5;241m.\u001b[39m__traceback__)\n\u001b[0;32m    120\u001b[0m     \u001b[38;5;66;03m# To get the full stack trace, call:\u001b[39;00m\n\u001b[0;32m    121\u001b[0m     \u001b[38;5;66;03m# `keras.config.disable_traceback_filtering()`\u001b[39;00m\n\u001b[1;32m--> 122\u001b[0m     \u001b[38;5;28;01mraise\u001b[39;00m e\u001b[38;5;241m.\u001b[39mwith_traceback(filtered_tb) \u001b[38;5;28;01mfrom\u001b[39;00m\u001b[38;5;250m \u001b[39m\u001b[38;5;28;01mNone\u001b[39;00m\n\u001b[0;32m    123\u001b[0m \u001b[38;5;28;01mfinally\u001b[39;00m:\n\u001b[0;32m    124\u001b[0m     \u001b[38;5;28;01mdel\u001b[39;00m filtered_tb\n",
      "File \u001b[1;32mc:\\AI_ML\\Projects\\MLOps\\Chicken-Disease-Classification\\venv\\Lib\\site-packages\\keras\\src\\optimizers\\base_optimizer.py:329\u001b[0m, in \u001b[0;36mBaseOptimizer._check_variables_are_known\u001b[1;34m(self, variables)\u001b[0m\n\u001b[0;32m    327\u001b[0m \u001b[38;5;28;01mfor\u001b[39;00m v \u001b[38;5;129;01min\u001b[39;00m variables:\n\u001b[0;32m    328\u001b[0m     \u001b[38;5;28;01mif\u001b[39;00m \u001b[38;5;28mself\u001b[39m\u001b[38;5;241m.\u001b[39m_var_key(v) \u001b[38;5;129;01mnot\u001b[39;00m \u001b[38;5;129;01min\u001b[39;00m \u001b[38;5;28mself\u001b[39m\u001b[38;5;241m.\u001b[39m_trainable_variables_indices:\n\u001b[1;32m--> 329\u001b[0m         \u001b[38;5;28;01mraise\u001b[39;00m \u001b[38;5;167;01mValueError\u001b[39;00m(\n\u001b[0;32m    330\u001b[0m             \u001b[38;5;124mf\u001b[39m\u001b[38;5;124m\"\u001b[39m\u001b[38;5;124mUnknown variable: \u001b[39m\u001b[38;5;132;01m{\u001b[39;00mv\u001b[38;5;132;01m}\u001b[39;00m\u001b[38;5;124m. This optimizer can only \u001b[39m\u001b[38;5;124m\"\u001b[39m\n\u001b[0;32m    331\u001b[0m             \u001b[38;5;124m\"\u001b[39m\u001b[38;5;124mbe called for the variables it was originally built with. \u001b[39m\u001b[38;5;124m\"\u001b[39m\n\u001b[0;32m    332\u001b[0m             \u001b[38;5;124m\"\u001b[39m\u001b[38;5;124mWhen working with a new set of variables, you should \u001b[39m\u001b[38;5;124m\"\u001b[39m\n\u001b[0;32m    333\u001b[0m             \u001b[38;5;124m\"\u001b[39m\u001b[38;5;124mrecreate a new optimizer instance.\u001b[39m\u001b[38;5;124m\"\u001b[39m\n\u001b[0;32m    334\u001b[0m         )\n",
      "\u001b[1;31mValueError\u001b[0m: Unknown variable: <Variable path=block1_conv1/kernel, shape=(3, 3, 3, 64), dtype=float32, value=[[[[ 4.29470569e-01  1.17273867e-01  3.40129584e-02 ... -1.32241577e-01\n    -5.33475243e-02  7.57738389e-03]\n   [ 5.50379455e-01  2.08774377e-02  9.88311544e-02 ... -8.48205537e-02\n    -5.11389151e-02  3.74943428e-02]\n   [ 4.80015397e-01 -1.72696680e-01  3.75577137e-02 ... -1.27135560e-01\n    -5.02991639e-02  3.48965675e-02]]\n\n  [[ 3.73466998e-01  1.62062630e-01  1.70863140e-03 ... -1.48207128e-01\n    -2.35300660e-01 -6.30356818e-02]\n   [ 4.40074533e-01  4.73412387e-02  5.13819456e-02 ... -9.88498852e-02\n    -2.96195745e-01 -7.04357103e-02]\n   [ 4.08547401e-01 -1.70375049e-01 -4.96297423e-03 ... -1.22360572e-01\n    -2.76450396e-01 -3.90796512e-02]]\n\n  [[-6.13601133e-02  1.35693997e-01 -1.15694344e-01 ... -1.40158370e-01\n    -3.77666801e-01 -3.00509870e-01]\n   [-8.13870355e-02  4.18543853e-02 -1.01763301e-01 ... -9.43124294e-02\n    -5.05662560e-01 -3.83694321e-01]\n   [-6.51455522e-02 -1.54351532e-01 -1.38038069e-01 ... -1.29404560e-01\n    -4.62243795e-01 -3.23985279e-01]]]\n\n\n [[[ 2.74769872e-01  1.48350164e-01  1.61559835e-01 ... -1.14316158e-01\n     3.65494519e-01  3.39938998e-01]\n   [ 3.45739067e-01  3.10493708e-02  2.40750551e-01 ... -6.93419054e-02\n     4.37116861e-01  4.13171440e-01]\n   [ 3.10477257e-01 -1.87601492e-01  1.66595340e-01 ... -9.88388434e-02\n     4.04058546e-01  3.92561197e-01]]\n\n  [[ 3.86807770e-02  2.02298447e-01  1.56414255e-01 ... -5.20089604e-02\n     2.57149011e-01  3.71682674e-01]\n   [ 4.06322069e-02  6.58102185e-02  2.20311403e-01 ... -3.78979952e-03\n     2.69412428e-01  4.09505904e-01]\n   [ 5.02023660e-02 -1.77571565e-01  1.51188180e-01 ... -1.40649760e-02\n     2.59300828e-01  4.23764467e-01]]\n\n  [[-3.67223352e-01  1.61688417e-01 -8.99365395e-02 ... -1.45945460e-01\n    -2.71823555e-01 -2.39718184e-01]\n   [-4.53501314e-01  4.62574959e-02 -6.67438358e-02 ... -1.03502415e-01\n    -3.45792353e-01 -2.92486250e-01]\n   [-4.03383434e-01 -1.74399972e-01 -1.09849639e-01 ... -1.25688612e-01\n    -3.14026326e-01 -2.32839763e-01]]]\n\n\n [[[-5.74681684e-02  1.29344285e-01  1.29030216e-02 ... -1.41449392e-01\n     2.41099641e-01  4.55602147e-02]\n   [-5.86349145e-02  3.16787697e-02  7.59588331e-02 ... -1.05017252e-01\n     3.39550197e-01  9.86374393e-02]\n   [-5.08716851e-02 -1.66002661e-01  1.56279504e-02 ... -1.49742723e-01\n     3.06801915e-01  8.82701725e-02]]\n\n  [[-2.62249678e-01  1.71572417e-01  5.44555223e-05 ... -1.22728683e-01\n     2.44687453e-01  5.32913655e-02]\n   [-3.30669671e-01  5.47101051e-02  4.86797579e-02 ... -8.29023942e-02\n     2.95466095e-01  7.44469985e-02]\n   [-2.85227507e-01 -1.66666731e-01 -7.96697661e-03 ... -1.09780088e-01\n     2.79203743e-01  9.46525261e-02]]\n\n  [[-3.50096762e-01  1.38710454e-01 -1.25339806e-01 ... -1.53092295e-01\n    -1.39917329e-01 -2.65075237e-01]\n   [-4.85030204e-01  4.23195846e-02 -1.12076312e-01 ... -1.18306056e-01\n    -1.67058021e-01 -3.22241962e-01]\n   [-4.18516338e-01 -1.57048807e-01 -1.49133086e-01 ... -1.56839803e-01\n    -1.42874300e-01 -2.69694626e-01]]]]>. This optimizer can only be called for the variables it was originally built with. When working with a new set of variables, you should recreate a new optimizer instance."
     ]
    }
   ],
   "source": [
    "try:\n",
    "    config = ConfigurationManager()\n",
    "    prepare_callbacks_config = config.get_prepare_callbacks_config()\n",
    "    prepare_callbacks = PrepareCallbacks(config = prepare_callbacks_config)\n",
    "    callback_list = prepare_callbacks.get_tb_ckpt_callbacks()\n",
    "\n",
    "    training_config = config.get_training_config()\n",
    "    training = Training(config = training_config)\n",
    "    training.get_base_model()\n",
    "    training.train_valid_generator()\n",
    "    training.train(callbacks_list = callback_list)\n",
    "\n",
    "except Exception as e:\n",
    "    raise e"
   ]
  },
  {
   "cell_type": "code",
   "execution_count": 16,
   "metadata": {},
   "outputs": [
    {
     "name": "stdout",
     "output_type": "stream",
     "text": [
      "Eager execution status: True\n"
     ]
    }
   ],
   "source": [
    "import tensorflow as tf\n",
    "\n",
    "print(\"Eager execution status:\", tf.executing_eagerly())  # Should print True\n"
   ]
  },
  {
   "cell_type": "code",
   "execution_count": 8,
   "metadata": {},
   "outputs": [],
   "source": [
    "tf.config.run_functions_eagerly(True)\n"
   ]
  },
  {
   "cell_type": "code",
   "execution_count": null,
   "metadata": {},
   "outputs": [],
   "source": []
  }
 ],
 "metadata": {
  "kernelspec": {
   "display_name": "Python 3",
   "language": "python",
   "name": "python3"
  },
  "language_info": {
   "codemirror_mode": {
    "name": "ipython",
    "version": 3
   },
   "file_extension": ".py",
   "mimetype": "text/x-python",
   "name": "python",
   "nbconvert_exporter": "python",
   "pygments_lexer": "ipython3",
   "version": "3.11.0"
  }
 },
 "nbformat": 4,
 "nbformat_minor": 2
}
